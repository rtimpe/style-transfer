{
 "cells": [
  {
   "cell_type": "code",
   "execution_count": 1,
   "metadata": {
    "collapsed": true
   },
   "outputs": [],
   "source": [
    "# for auto-reloading extenrnal modules\n",
    "# see http://stackoverflow.com/questions/1907993/autoreload-of-modules-in-ipython\n",
    "%load_ext autoreload\n",
    "%autoreload 2"
   ]
  },
  {
   "cell_type": "code",
   "execution_count": 2,
   "metadata": {
    "collapsed": true
   },
   "outputs": [],
   "source": [
    "%matplotlib inline"
   ]
  },
  {
   "cell_type": "code",
   "execution_count": 3,
   "metadata": {
    "collapsed": true
   },
   "outputs": [],
   "source": [
    "# make variables display whenever they are on their own line (not just the last line of a cell)\n",
    "from IPython.core.interactiveshell import InteractiveShell\n",
    "InteractiveShell.ast_node_interactivity = \"all\""
   ]
  },
  {
   "cell_type": "code",
   "execution_count": 21,
   "metadata": {},
   "outputs": [],
   "source": [
    "import os\n",
    "\n",
    "import tensorflow as tf\n",
    "import numpy as np\n",
    "import matplotlib.pyplot as plt\n",
    "\n",
    "from utils import *"
   ]
  },
  {
   "cell_type": "code",
   "execution_count": 28,
   "metadata": {
    "collapsed": true
   },
   "outputs": [],
   "source": [
    "tf.reset_default_graph()\n",
    "sess = tf.Session()\n",
    "input_ph = tf.placeholder('float', (None, 224, 224, 3))"
   ]
  },
  {
   "cell_type": "code",
   "execution_count": 52,
   "metadata": {
    "scrolled": false
   },
   "outputs": [],
   "source": [
    "dataset = make_precomputed_dataset('../val2017', 'conv1')"
   ]
  },
  {
   "cell_type": "code",
   "execution_count": 53,
   "metadata": {},
   "outputs": [
    {
     "data": {
      "text/plain": [
       "(array([[[167.      , 136.      ,  71.      ],\n",
       "         [173.14285 , 144.14285 ,  76.14286 ],\n",
       "         [177.      , 148.      ,  78.      ],\n",
       "         ...,\n",
       "         [ 67.      ,  72.85718 ,  40.42859 ],\n",
       "         [ 67.42853 ,  72.      ,  38.57141 ],\n",
       "         [ 67.85712 ,  75.85712 ,  38.857117]],\n",
       " \n",
       "        [[172.80357 , 143.60715 ,  77.70536 ],\n",
       "         [176.8176  , 147.8176  ,  78.27168 ],\n",
       "         [177.80357 , 148.80357 ,  78.80357 ],\n",
       "         ...,\n",
       "         [ 69.43626 ,  70.42859 ,  35.627533],\n",
       "         [ 72.478294,  76.01913 ,  39.173466],\n",
       "         [ 67.0255  ,  77.73085 ,  37.99743 ]],\n",
       " \n",
       "        [[176.01785 , 147.01785 ,  79.01786 ],\n",
       "         [176.38266 , 147.38266 ,  77.438774],\n",
       "         [176.74745 , 147.83675 ,  77.147964],\n",
       "         ...,\n",
       "         [ 76.11992 ,  74.83415 ,  39.951546],\n",
       "         [ 73.482124,  74.91071 ,  38.196415],\n",
       "         [ 66.22446 ,  76.39282 ,  38.887733]],\n",
       " \n",
       "        ...,\n",
       " \n",
       "        [[162.      , 101.23212 ,  60.410706],\n",
       "         [169.12628 , 110.57651 ,  66.14028 ],\n",
       "         [168.84186 , 106.006355,  61.849495],\n",
       "         ...,\n",
       "         [192.45026 , 184.40692 , 179.24622 ],\n",
       "         [194.2079  , 186.68619 , 182.2219  ],\n",
       "         [194.30992 , 189.51149 , 184.82141 ]],\n",
       " \n",
       "        [[169.12527 , 152.23276 ,  99.94736 ],\n",
       "         [176.08176 , 142.82472 ,  90.858086],\n",
       "         [176.1814  , 157.86562 , 113.03176 ],\n",
       "         ...,\n",
       "         [189.42607 , 159.90532 , 155.57632 ],\n",
       "         [186.56635 , 163.49982 , 158.5228  ],\n",
       "         [187.75513 , 170.17331 , 163.76263 ]],\n",
       " \n",
       "        [[185.0982  , 182.0982  , 150.9018  ],\n",
       "         [184.85715 , 183.87117 , 152.82909 ],\n",
       "         [186.787   , 182.10077 , 152.9745  ],\n",
       "         ...,\n",
       "         [181.18034 ,  90.16884 ,  89.68678 ],\n",
       "         [184.40367 , 101.28114 , 106.616585],\n",
       "         [191.69696 , 125.87274 , 124.96853 ]]], dtype=float32),\n",
       " array([[[0.00000000e+00, 0.00000000e+00, 1.00409689e+01, ...,\n",
       "          0.00000000e+00, 2.39194527e+01, 0.00000000e+00],\n",
       "         [0.00000000e+00, 0.00000000e+00, 7.02196808e+01, ...,\n",
       "          0.00000000e+00, 2.26539795e+02, 1.69241455e+02],\n",
       "         [0.00000000e+00, 0.00000000e+00, 7.51293793e+01, ...,\n",
       "          0.00000000e+00, 2.39084610e+02, 1.83842407e+02],\n",
       "         ...,\n",
       "         [0.00000000e+00, 6.72504139e+00, 3.92579002e+01, ...,\n",
       "          0.00000000e+00, 1.02019409e+02, 7.53562775e+01],\n",
       "         [0.00000000e+00, 7.30063343e+00, 4.13422813e+01, ...,\n",
       "          0.00000000e+00, 1.06721275e+02, 7.93586884e+01],\n",
       "         [1.34713769e+00, 2.01529999e+01, 6.55108566e+01, ...,\n",
       "          0.00000000e+00, 1.77848938e+02, 1.75224304e+02]],\n",
       " \n",
       "        [[0.00000000e+00, 0.00000000e+00, 0.00000000e+00, ...,\n",
       "          0.00000000e+00, 0.00000000e+00, 0.00000000e+00],\n",
       "         [0.00000000e+00, 0.00000000e+00, 5.65965347e+01, ...,\n",
       "          0.00000000e+00, 1.59709322e+00, 5.59009972e+01],\n",
       "         [0.00000000e+00, 0.00000000e+00, 5.97356834e+01, ...,\n",
       "          0.00000000e+00, 4.83393192e+00, 6.30853004e+01],\n",
       "         ...,\n",
       "         [0.00000000e+00, 3.45595837e+00, 3.42724953e+01, ...,\n",
       "          0.00000000e+00, 0.00000000e+00, 1.76146107e+01],\n",
       "         [0.00000000e+00, 4.93254137e+00, 3.80381966e+01, ...,\n",
       "          0.00000000e+00, 3.62458658e+00, 2.48191586e+01],\n",
       "         [1.48293655e+02, 2.42660007e+01, 7.73686600e+01, ...,\n",
       "          0.00000000e+00, 1.38322739e+02, 1.76901306e+02]],\n",
       " \n",
       "        [[0.00000000e+00, 0.00000000e+00, 0.00000000e+00, ...,\n",
       "          0.00000000e+00, 0.00000000e+00, 0.00000000e+00],\n",
       "         [0.00000000e+00, 0.00000000e+00, 5.82289505e+01, ...,\n",
       "          0.00000000e+00, 2.94754475e-01, 5.81639061e+01],\n",
       "         [0.00000000e+00, 0.00000000e+00, 5.87521133e+01, ...,\n",
       "          0.00000000e+00, 7.77825713e-02, 5.83509827e+01],\n",
       "         ...,\n",
       "         [0.00000000e+00, 2.43186402e+00, 3.59598846e+01, ...,\n",
       "          0.00000000e+00, 1.46638870e+00, 2.31127968e+01],\n",
       "         [0.00000000e+00, 4.64787006e+00, 3.88979912e+01, ...,\n",
       "          0.00000000e+00, 5.14849567e+00, 2.63326893e+01],\n",
       "         [1.47391159e+02, 2.47032452e+01, 7.80683975e+01, ...,\n",
       "          0.00000000e+00, 1.41641342e+02, 1.77840057e+02]],\n",
       " \n",
       "        ...,\n",
       " \n",
       "        [[0.00000000e+00, 0.00000000e+00, 0.00000000e+00, ...,\n",
       "          0.00000000e+00, 0.00000000e+00, 0.00000000e+00],\n",
       "         [0.00000000e+00, 0.00000000e+00, 2.76391907e+01, ...,\n",
       "          0.00000000e+00, 1.45320635e+01, 3.06318989e+01],\n",
       "         [0.00000000e+00, 0.00000000e+00, 3.36343002e+01, ...,\n",
       "          0.00000000e+00, 2.59791718e+01, 5.07146034e+01],\n",
       "         ...,\n",
       "         [4.37046165e+01, 7.20172958e+01, 9.46789474e+01, ...,\n",
       "          0.00000000e+00, 0.00000000e+00, 5.92880707e+01],\n",
       "         [3.79249649e+01, 7.44526062e+01, 9.69104538e+01, ...,\n",
       "          0.00000000e+00, 0.00000000e+00, 6.17298508e+01],\n",
       "         [4.68822083e+02, 1.13359741e+02, 2.17739120e+02, ...,\n",
       "          0.00000000e+00, 3.90479889e+02, 5.15826111e+02]],\n",
       " \n",
       "        [[0.00000000e+00, 0.00000000e+00, 0.00000000e+00, ...,\n",
       "          0.00000000e+00, 0.00000000e+00, 0.00000000e+00],\n",
       "         [0.00000000e+00, 7.01082563e+00, 5.81386375e+01, ...,\n",
       "          0.00000000e+00, 6.29952850e+01, 5.97951546e+01],\n",
       "         [0.00000000e+00, 9.62860489e+00, 5.92856369e+01, ...,\n",
       "          0.00000000e+00, 7.33856812e+01, 6.67267838e+01],\n",
       "         ...,\n",
       "         [1.25509506e+02, 3.50951462e+01, 6.79098053e+01, ...,\n",
       "          0.00000000e+00, 0.00000000e+00, 5.52993279e+01],\n",
       "         [1.01568535e+02, 3.99687309e+01, 6.74904785e+01, ...,\n",
       "          0.00000000e+00, 0.00000000e+00, 3.94936371e+01],\n",
       "         [4.76040588e+02, 8.79699936e+01, 1.87934296e+02, ...,\n",
       "          0.00000000e+00, 3.25274323e+02, 4.63307068e+02]],\n",
       " \n",
       "        [[1.61005630e+01, 1.13212500e+01, 3.03997517e+01, ...,\n",
       "          0.00000000e+00, 0.00000000e+00, 0.00000000e+00],\n",
       "         [3.21739655e+02, 2.68655949e+01, 1.07467018e+02, ...,\n",
       "          0.00000000e+00, 0.00000000e+00, 1.65955414e+02],\n",
       "         [3.17091034e+02, 2.93532658e+01, 1.10567268e+02, ...,\n",
       "          0.00000000e+00, 0.00000000e+00, 1.73418671e+02],\n",
       "         ...,\n",
       "         [3.70866425e+02, 6.03488684e+00, 4.82623138e+01, ...,\n",
       "          0.00000000e+00, 0.00000000e+00, 5.33405075e+01],\n",
       "         [3.56214447e+02, 1.04698229e+01, 5.05171967e+01, ...,\n",
       "          0.00000000e+00, 0.00000000e+00, 4.39141502e+01],\n",
       "         [5.50287598e+02, 4.86605186e+01, 1.33346466e+02, ...,\n",
       "          0.00000000e+00, 1.20791283e+02, 3.28782623e+02]]], dtype=float32))"
      ]
     },
     "execution_count": 53,
     "metadata": {},
     "output_type": "execute_result"
    }
   ],
   "source": [
    "sess.run(dataset.make_one_shot_iterator().get_next())"
   ]
  },
  {
   "cell_type": "code",
   "execution_count": null,
   "metadata": {},
   "outputs": [],
   "source": [
    "make_encoder(input_ph, sess)\n",
    "reconstructed_image = make_decoder(vgg[1]['vgg_19/conv2/conv2_1'], [(3, 64), 'upsample', (3, 64), (3, 3)], sess)"
   ]
  },
  {
   "cell_type": "code",
   "execution_count": null,
   "metadata": {
    "collapsed": true
   },
   "outputs": [],
   "source": [
    "loss = tf.sqrt(tf.reduce_mean(tf.square(input_ph - reconstructed_image)))"
   ]
  },
  {
   "cell_type": "code",
   "execution_count": null,
   "metadata": {
    "collapsed": true
   },
   "outputs": [],
   "source": [
    "train(loss, dataset, input_ph, sess, num_epochs=10, lr=1e-4)"
   ]
  },
  {
   "cell_type": "code",
   "execution_count": null,
   "metadata": {
    "collapsed": true
   },
   "outputs": [],
   "source": [
    "it = dataset.make_one_shot_iterator()"
   ]
  },
  {
   "cell_type": "code",
   "execution_count": null,
   "metadata": {
    "collapsed": true
   },
   "outputs": [],
   "source": [
    "img = sess.run(tf.cast(it.get_next(), tf.uint8))"
   ]
  },
  {
   "cell_type": "code",
   "execution_count": null,
   "metadata": {
    "collapsed": true
   },
   "outputs": [],
   "source": [
    "plt.imshow(img)"
   ]
  },
  {
   "cell_type": "code",
   "execution_count": null,
   "metadata": {
    "collapsed": true
   },
   "outputs": [],
   "source": [
    "decoded_img = sess.run(reconstructed_image, feed_dict={input_ph: img[np.newaxis,:,:,:]})"
   ]
  },
  {
   "cell_type": "code",
   "execution_count": null,
   "metadata": {
    "collapsed": true
   },
   "outputs": [],
   "source": [
    "decoded_img = np.squeeze(decoded_img)"
   ]
  },
  {
   "cell_type": "code",
   "execution_count": null,
   "metadata": {
    "collapsed": true
   },
   "outputs": [],
   "source": [
    "decoded_img[decoded_img > 255] = 255"
   ]
  },
  {
   "cell_type": "code",
   "execution_count": null,
   "metadata": {
    "collapsed": true
   },
   "outputs": [],
   "source": [
    "plt.imshow(decoded_img.astype(np.uint8))"
   ]
  },
  {
   "cell_type": "code",
   "execution_count": null,
   "metadata": {
    "collapsed": true
   },
   "outputs": [],
   "source": []
  },
  {
   "cell_type": "code",
   "execution_count": null,
   "metadata": {
    "collapsed": true
   },
   "outputs": [],
   "source": [
    "writer = tf.summary.FileWriter('summaries', sess.graph)"
   ]
  },
  {
   "cell_type": "code",
   "execution_count": 19,
   "metadata": {},
   "outputs": [
    {
     "name": "stdout",
     "output_type": "stream",
     "text": [
      "INFO:tensorflow:Restoring parameters from vgg_19.ckpt\n"
     ]
    }
   ],
   "source": [
    "compute_features('../val2017', 'conv1.tfrecord', out_layer_name='vgg_19/conv1/conv1_1', num_images=200)"
   ]
  },
  {
   "cell_type": "code",
   "execution_count": null,
   "metadata": {
    "collapsed": true
   },
   "outputs": [],
   "source": []
  }
 ],
 "metadata": {
  "kernelspec": {
   "display_name": "Python 3",
   "language": "python",
   "name": "python3"
  },
  "language_info": {
   "codemirror_mode": {
    "name": "ipython",
    "version": 3
   },
   "file_extension": ".py",
   "mimetype": "text/x-python",
   "name": "python",
   "nbconvert_exporter": "python",
   "pygments_lexer": "ipython3",
   "version": "3.6.1"
  }
 },
 "nbformat": 4,
 "nbformat_minor": 2
}
