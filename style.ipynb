{
 "cells": [
  {
   "cell_type": "code",
   "execution_count": 1,
   "metadata": {
    "collapsed": true
   },
   "outputs": [],
   "source": [
    "# for auto-reloading extenrnal modules\n",
    "# see http://stackoverflow.com/questions/1907993/autoreload-of-modules-in-ipython\n",
    "%load_ext autoreload\n",
    "%autoreload 2"
   ]
  },
  {
   "cell_type": "code",
   "execution_count": 2,
   "metadata": {
    "collapsed": true
   },
   "outputs": [],
   "source": [
    "%matplotlib inline"
   ]
  },
  {
   "cell_type": "code",
   "execution_count": 3,
   "metadata": {
    "collapsed": true
   },
   "outputs": [],
   "source": [
    "# make variables display whenever they are on their own line (not just the last line of a cell)\n",
    "from IPython.core.interactiveshell import InteractiveShell\n",
    "InteractiveShell.ast_node_interactivity = \"all\""
   ]
  },
  {
   "cell_type": "code",
   "execution_count": 20,
   "metadata": {},
   "outputs": [],
   "source": [
    "import os\n",
    "\n",
    "import tensorflow as tf\n",
    "import numpy as np\n",
    "import matplotlib.pyplot as plt\n",
    "\n",
    "from utils import *"
   ]
  },
  {
   "cell_type": "code",
   "execution_count": 8,
   "metadata": {
    "collapsed": true
   },
   "outputs": [],
   "source": [
    "tf.reset_default_graph()\n",
    "sess = tf.Session()\n",
    "input_ph = tf.placeholder('float', (None, 224, 224, 3))"
   ]
  },
  {
   "cell_type": "code",
   "execution_count": 30,
   "metadata": {
    "scrolled": false
   },
   "outputs": [],
   "source": [
    "dataset = make_dataset_from_tfrecord(['conv1.tfrecord'], [224, 224, 64])"
   ]
  },
  {
   "cell_type": "code",
   "execution_count": 34,
   "metadata": {},
   "outputs": [
    {
     "data": {
      "text/plain": [
       "(224, 224, 64)"
      ]
     },
     "execution_count": 34,
     "metadata": {},
     "output_type": "execute_result"
    }
   ],
   "source": [
    "sess.run(dataset.make_one_shot_iterator().get_next()).shape"
   ]
  },
  {
   "cell_type": "code",
   "execution_count": 10,
   "metadata": {},
   "outputs": [
    {
     "name": "stdout",
     "output_type": "stream",
     "text": [
      "INFO:tensorflow:Restoring parameters from vgg_19.ckpt\n"
     ]
    },
    {
     "data": {
      "text/plain": [
       "(<tf.Tensor 'vgg_19/fc8/squeezed:0' shape=(?, 1000) dtype=float32>,\n",
       " OrderedDict([('vgg_19/conv1/conv1_1',\n",
       "               <tf.Tensor 'vgg_19/conv1/conv1_1/Relu:0' shape=(?, 224, 224, 64) dtype=float32>),\n",
       "              ('vgg_19/conv1/conv1_2',\n",
       "               <tf.Tensor 'vgg_19/conv1/conv1_2/Relu:0' shape=(?, 224, 224, 64) dtype=float32>),\n",
       "              ('vgg_19/pool1',\n",
       "               <tf.Tensor 'vgg_19/pool1/MaxPool:0' shape=(?, 112, 112, 64) dtype=float32>),\n",
       "              ('vgg_19/conv2/conv2_1',\n",
       "               <tf.Tensor 'vgg_19/conv2/conv2_1/Relu:0' shape=(?, 112, 112, 128) dtype=float32>),\n",
       "              ('vgg_19/conv2/conv2_2',\n",
       "               <tf.Tensor 'vgg_19/conv2/conv2_2/Relu:0' shape=(?, 112, 112, 128) dtype=float32>),\n",
       "              ('vgg_19/pool2',\n",
       "               <tf.Tensor 'vgg_19/pool2/MaxPool:0' shape=(?, 56, 56, 128) dtype=float32>),\n",
       "              ('vgg_19/conv3/conv3_1',\n",
       "               <tf.Tensor 'vgg_19/conv3/conv3_1/Relu:0' shape=(?, 56, 56, 256) dtype=float32>),\n",
       "              ('vgg_19/conv3/conv3_2',\n",
       "               <tf.Tensor 'vgg_19/conv3/conv3_2/Relu:0' shape=(?, 56, 56, 256) dtype=float32>),\n",
       "              ('vgg_19/conv3/conv3_3',\n",
       "               <tf.Tensor 'vgg_19/conv3/conv3_3/Relu:0' shape=(?, 56, 56, 256) dtype=float32>),\n",
       "              ('vgg_19/conv3/conv3_4',\n",
       "               <tf.Tensor 'vgg_19/conv3/conv3_4/Relu:0' shape=(?, 56, 56, 256) dtype=float32>),\n",
       "              ('vgg_19/pool3',\n",
       "               <tf.Tensor 'vgg_19/pool3/MaxPool:0' shape=(?, 28, 28, 256) dtype=float32>),\n",
       "              ('vgg_19/conv4/conv4_1',\n",
       "               <tf.Tensor 'vgg_19/conv4/conv4_1/Relu:0' shape=(?, 28, 28, 512) dtype=float32>),\n",
       "              ('vgg_19/conv4/conv4_2',\n",
       "               <tf.Tensor 'vgg_19/conv4/conv4_2/Relu:0' shape=(?, 28, 28, 512) dtype=float32>),\n",
       "              ('vgg_19/conv4/conv4_3',\n",
       "               <tf.Tensor 'vgg_19/conv4/conv4_3/Relu:0' shape=(?, 28, 28, 512) dtype=float32>),\n",
       "              ('vgg_19/conv4/conv4_4',\n",
       "               <tf.Tensor 'vgg_19/conv4/conv4_4/Relu:0' shape=(?, 28, 28, 512) dtype=float32>),\n",
       "              ('vgg_19/pool4',\n",
       "               <tf.Tensor 'vgg_19/pool4/MaxPool:0' shape=(?, 14, 14, 512) dtype=float32>),\n",
       "              ('vgg_19/conv5/conv5_1',\n",
       "               <tf.Tensor 'vgg_19/conv5/conv5_1/Relu:0' shape=(?, 14, 14, 512) dtype=float32>),\n",
       "              ('vgg_19/conv5/conv5_2',\n",
       "               <tf.Tensor 'vgg_19/conv5/conv5_2/Relu:0' shape=(?, 14, 14, 512) dtype=float32>),\n",
       "              ('vgg_19/conv5/conv5_3',\n",
       "               <tf.Tensor 'vgg_19/conv5/conv5_3/Relu:0' shape=(?, 14, 14, 512) dtype=float32>),\n",
       "              ('vgg_19/conv5/conv5_4',\n",
       "               <tf.Tensor 'vgg_19/conv5/conv5_4/Relu:0' shape=(?, 14, 14, 512) dtype=float32>),\n",
       "              ('vgg_19/pool5',\n",
       "               <tf.Tensor 'vgg_19/pool5/MaxPool:0' shape=(?, 7, 7, 512) dtype=float32>),\n",
       "              ('vgg_19/fc6',\n",
       "               <tf.Tensor 'vgg_19/fc6/Relu:0' shape=(?, 1, 1, 4096) dtype=float32>),\n",
       "              ('vgg_19/fc7',\n",
       "               <tf.Tensor 'vgg_19/fc7/Relu:0' shape=(?, 1, 1, 4096) dtype=float32>),\n",
       "              ('vgg_19/fc8',\n",
       "               <tf.Tensor 'vgg_19/fc8/squeezed:0' shape=(?, 1000) dtype=float32>)]))"
      ]
     },
     "execution_count": 10,
     "metadata": {},
     "output_type": "execute_result"
    },
    {
     "ename": "NameError",
     "evalue": "name 'vgg' is not defined",
     "output_type": "error",
     "traceback": [
      "\u001b[1;31m---------------------------------------------------------------------------\u001b[0m",
      "\u001b[1;31mNameError\u001b[0m                                 Traceback (most recent call last)",
      "\u001b[1;32m<ipython-input-10-b5340805d8ba>\u001b[0m in \u001b[0;36m<module>\u001b[1;34m()\u001b[0m\n\u001b[0;32m      1\u001b[0m \u001b[0mmake_encoder\u001b[0m\u001b[1;33m(\u001b[0m\u001b[0minput_ph\u001b[0m\u001b[1;33m,\u001b[0m \u001b[0msess\u001b[0m\u001b[1;33m)\u001b[0m\u001b[1;33m\u001b[0m\u001b[0m\n\u001b[1;32m----> 2\u001b[1;33m \u001b[0mreconstructed_image\u001b[0m \u001b[1;33m=\u001b[0m \u001b[0mmake_decoder\u001b[0m\u001b[1;33m(\u001b[0m\u001b[0mvgg\u001b[0m\u001b[1;33m[\u001b[0m\u001b[1;36m1\u001b[0m\u001b[1;33m]\u001b[0m\u001b[1;33m[\u001b[0m\u001b[1;34m'vgg_19/conv2/conv2_1'\u001b[0m\u001b[1;33m]\u001b[0m\u001b[1;33m,\u001b[0m \u001b[1;33m[\u001b[0m\u001b[1;33m(\u001b[0m\u001b[1;36m3\u001b[0m\u001b[1;33m,\u001b[0m \u001b[1;36m64\u001b[0m\u001b[1;33m)\u001b[0m\u001b[1;33m,\u001b[0m \u001b[1;34m'upsample'\u001b[0m\u001b[1;33m,\u001b[0m \u001b[1;33m(\u001b[0m\u001b[1;36m3\u001b[0m\u001b[1;33m,\u001b[0m \u001b[1;36m64\u001b[0m\u001b[1;33m)\u001b[0m\u001b[1;33m,\u001b[0m \u001b[1;33m(\u001b[0m\u001b[1;36m3\u001b[0m\u001b[1;33m,\u001b[0m \u001b[1;36m3\u001b[0m\u001b[1;33m)\u001b[0m\u001b[1;33m]\u001b[0m\u001b[1;33m,\u001b[0m \u001b[0msess\u001b[0m\u001b[1;33m)\u001b[0m\u001b[1;33m\u001b[0m\u001b[0m\n\u001b[0m",
      "\u001b[1;31mNameError\u001b[0m: name 'vgg' is not defined"
     ]
    }
   ],
   "source": [
    "make_encoder(input_ph, sess)\n",
    "reconstructed_image = make_decoder(vgg[1]['vgg_19/conv2/conv2_1'], [(3, 64), 'upsample', (3, 64), (3, 3)], sess)"
   ]
  },
  {
   "cell_type": "code",
   "execution_count": null,
   "metadata": {
    "collapsed": true
   },
   "outputs": [],
   "source": [
    "loss = tf.sqrt(tf.reduce_mean(tf.square(input_ph - reconstructed_image)))"
   ]
  },
  {
   "cell_type": "code",
   "execution_count": null,
   "metadata": {
    "collapsed": true
   },
   "outputs": [],
   "source": [
    "train(loss, dataset, input_ph, sess, num_epochs=10, lr=1e-4)"
   ]
  },
  {
   "cell_type": "code",
   "execution_count": null,
   "metadata": {
    "collapsed": true
   },
   "outputs": [],
   "source": [
    "it = dataset.make_one_shot_iterator()"
   ]
  },
  {
   "cell_type": "code",
   "execution_count": null,
   "metadata": {
    "collapsed": true
   },
   "outputs": [],
   "source": [
    "img = sess.run(tf.cast(it.get_next(), tf.uint8))"
   ]
  },
  {
   "cell_type": "code",
   "execution_count": null,
   "metadata": {
    "collapsed": true
   },
   "outputs": [],
   "source": [
    "plt.imshow(img)"
   ]
  },
  {
   "cell_type": "code",
   "execution_count": null,
   "metadata": {
    "collapsed": true
   },
   "outputs": [],
   "source": [
    "decoded_img = sess.run(reconstructed_image, feed_dict={input_ph: img[np.newaxis,:,:,:]})"
   ]
  },
  {
   "cell_type": "code",
   "execution_count": null,
   "metadata": {
    "collapsed": true
   },
   "outputs": [],
   "source": [
    "decoded_img = np.squeeze(decoded_img)"
   ]
  },
  {
   "cell_type": "code",
   "execution_count": null,
   "metadata": {
    "collapsed": true
   },
   "outputs": [],
   "source": [
    "decoded_img[decoded_img > 255] = 255"
   ]
  },
  {
   "cell_type": "code",
   "execution_count": null,
   "metadata": {
    "collapsed": true
   },
   "outputs": [],
   "source": [
    "plt.imshow(decoded_img.astype(np.uint8))"
   ]
  },
  {
   "cell_type": "code",
   "execution_count": null,
   "metadata": {
    "collapsed": true
   },
   "outputs": [],
   "source": []
  },
  {
   "cell_type": "code",
   "execution_count": 11,
   "metadata": {
    "collapsed": true
   },
   "outputs": [],
   "source": [
    "writer = tf.summary.FileWriter('summaries', sess.graph)"
   ]
  },
  {
   "cell_type": "code",
   "execution_count": 18,
   "metadata": {},
   "outputs": [
    {
     "name": "stdout",
     "output_type": "stream",
     "text": [
      "INFO:tensorflow:Restoring parameters from vgg_19.ckpt\n"
     ]
    }
   ],
   "source": [
    "compute_features('../val2017', 'conv1.tfrecord', out_layer_name='vgg_19/conv1/conv1_1', num_images=200)"
   ]
  },
  {
   "cell_type": "code",
   "execution_count": null,
   "metadata": {
    "collapsed": true
   },
   "outputs": [],
   "source": []
  }
 ],
 "metadata": {
  "kernelspec": {
   "display_name": "Python 3",
   "language": "python",
   "name": "python3"
  },
  "language_info": {
   "codemirror_mode": {
    "name": "ipython",
    "version": 3
   },
   "file_extension": ".py",
   "mimetype": "text/x-python",
   "name": "python",
   "nbconvert_exporter": "python",
   "pygments_lexer": "ipython3",
   "version": "3.6.1"
  }
 },
 "nbformat": 4,
 "nbformat_minor": 2
}
