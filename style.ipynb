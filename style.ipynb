{
 "cells": [
  {
   "cell_type": "markdown",
   "metadata": {},
   "source": [
    "implementation of [universal style transfer via feature transforms by Li et al](https://arxiv.org/pdf/1705.08086.pdf)"
   ]
  },
  {
   "cell_type": "code",
   "execution_count": 1,
   "metadata": {
    "collapsed": true
   },
   "outputs": [],
   "source": [
    "# for auto-reloading extenrnal modules\n",
    "# see http://stackoverflow.com/questions/1907993/autoreload-of-modules-in-ipython\n",
    "%load_ext autoreload\n",
    "%autoreload 2"
   ]
  },
  {
   "cell_type": "code",
   "execution_count": 2,
   "metadata": {
    "collapsed": true
   },
   "outputs": [],
   "source": [
    "%matplotlib inline"
   ]
  },
  {
   "cell_type": "code",
   "execution_count": 3,
   "metadata": {
    "collapsed": true
   },
   "outputs": [],
   "source": [
    "# make variables display whenever they are on their own line (not just the last line of a cell)\n",
    "from IPython.core.interactiveshell import InteractiveShell\n",
    "InteractiveShell.ast_node_interactivity = \"all\""
   ]
  },
  {
   "cell_type": "code",
   "execution_count": 4,
   "metadata": {},
   "outputs": [
    {
     "name": "stderr",
     "output_type": "stream",
     "text": [
      "C:\\Anaconda\\envs\\style\\lib\\site-packages\\h5py\\__init__.py:34: FutureWarning: Conversion of the second argument of issubdtype from `float` to `np.floating` is deprecated. In future, it will be treated as `np.float64 == np.dtype(float).type`.\n",
      "  from ._conv import register_converters as _register_converters\n"
     ]
    }
   ],
   "source": [
    "import os\n",
    "\n",
    "import tensorflow as tf\n",
    "import numpy as np\n",
    "import matplotlib.pyplot as plt\n",
    "from imageio import imread\n",
    "import skimage.transform\n",
    "\n",
    "from utils import *"
   ]
  },
  {
   "cell_type": "markdown",
   "metadata": {},
   "source": [
    "## Settings"
   ]
  },
  {
   "cell_type": "code",
   "execution_count": 6,
   "metadata": {
    "collapsed": true
   },
   "outputs": [],
   "source": [
    "layer = 'conv4'"
   ]
  },
  {
   "cell_type": "markdown",
   "metadata": {},
   "source": [
    "## Featureize images"
   ]
  },
  {
   "cell_type": "code",
   "execution_count": 7,
   "metadata": {},
   "outputs": [
    {
     "name": "stdout",
     "output_type": "stream",
     "text": [
      "INFO:tensorflow:Restoring parameters from vgg_19.ckpt\n",
      "INFO:tensorflow:Restoring parameters from vgg_19.ckpt\n"
     ]
    }
   ],
   "source": [
    "compute_features('D:/test2017', out_layer_name='vgg_19/' + layer + '/' + layer + '_1', num_images=5000)\n",
    "compute_features('D:/val2017', out_layer_name='vgg_19/' + layer + '/' + layer + '_1', num_images=200)"
   ]
  },
  {
   "cell_type": "markdown",
   "metadata": {},
   "source": [
    "## Create graph"
   ]
  },
  {
   "cell_type": "code",
   "execution_count": 25,
   "metadata": {},
   "outputs": [],
   "source": [
    "layer_to_sizes = {\n",
    "    'conv1': (None, 224, 224, 64),\n",
    "    'conv2': (None, 112, 112, 128),\n",
    "    'conv4': (None, 28, 28, 512)\n",
    "}\n",
    "\n",
    "tf.reset_default_graph()\n",
    "sess = tf.Session()\n",
    "images_ph = tf.placeholder('float', (None, 224, 224, 3), name='images')\n",
    "features_ph = tf.placeholder('float', layer_to_sizes[layer], name='features')"
   ]
  },
  {
   "cell_type": "code",
   "execution_count": 26,
   "metadata": {
    "scrolled": false
   },
   "outputs": [],
   "source": [
    "train_dataset = make_precomputed_dataset('D:/test2017', layer, num_images=5000)\n",
    "val_dataset = make_precomputed_dataset('D:/val2017', layer, num_images=200)"
   ]
  },
  {
   "cell_type": "code",
   "execution_count": 27,
   "metadata": {
    "scrolled": false
   },
   "outputs": [
    {
     "name": "stdout",
     "output_type": "stream",
     "text": [
      "INFO:tensorflow:Restoring parameters from vgg_19.ckpt\n"
     ]
    }
   ],
   "source": [
    "architecture_4 = [(3, 256), 'upsample', (3, 256), (3, 256), (3, 256), (3, 128), 'upsample', (3, 112), (3, 64), 'upsample', (3, 64), (3, 3)]\n",
    "architecture_1 = [(3, 3)]\n",
    "reconstructed_image = make_decoder(features_ph, architecture_4, sess)\n",
    "loss = create_loss(images_ph, features_ph, reconstructed_image, 'vgg_19/' + layer + '/' + layer + '_1', sess)"
   ]
  },
  {
   "cell_type": "code",
   "execution_count": 28,
   "metadata": {
    "scrolled": false
   },
   "outputs": [
    {
     "name": "stdout",
     "output_type": "stream",
     "text": [
      "[<tf.Variable 'decoder/conv_layer_0/filters:0' shape=(3, 3, 512, 256) dtype=float32_ref>, <tf.Variable 'decoder/conv_layer_0/biases:0' shape=(256,) dtype=float32_ref>, <tf.Variable 'decoder/conv_layer_2/filters:0' shape=(3, 3, 256, 256) dtype=float32_ref>, <tf.Variable 'decoder/conv_layer_2/biases:0' shape=(256,) dtype=float32_ref>, <tf.Variable 'decoder/conv_layer_3/filters:0' shape=(3, 3, 256, 256) dtype=float32_ref>, <tf.Variable 'decoder/conv_layer_3/biases:0' shape=(256,) dtype=float32_ref>, <tf.Variable 'decoder/conv_layer_4/filters:0' shape=(3, 3, 256, 256) dtype=float32_ref>, <tf.Variable 'decoder/conv_layer_4/biases:0' shape=(256,) dtype=float32_ref>, <tf.Variable 'decoder/conv_layer_5/filters:0' shape=(3, 3, 256, 128) dtype=float32_ref>, <tf.Variable 'decoder/conv_layer_5/biases:0' shape=(128,) dtype=float32_ref>, <tf.Variable 'decoder/conv_layer_7/filters:0' shape=(3, 3, 128, 112) dtype=float32_ref>, <tf.Variable 'decoder/conv_layer_7/biases:0' shape=(112,) dtype=float32_ref>, <tf.Variable 'decoder/conv_layer_8/filters:0' shape=(3, 3, 112, 64) dtype=float32_ref>, <tf.Variable 'decoder/conv_layer_8/biases:0' shape=(64,) dtype=float32_ref>, <tf.Variable 'decoder/conv_layer_10/filters:0' shape=(3, 3, 64, 64) dtype=float32_ref>, <tf.Variable 'decoder/conv_layer_10/biases:0' shape=(64,) dtype=float32_ref>, <tf.Variable 'decoder/conv_layer_11/filters:0' shape=(3, 3, 64, 3) dtype=float32_ref>, <tf.Variable 'decoder/conv_layer_11/biases:0' shape=(3,) dtype=float32_ref>]\n"
     ]
    }
   ],
   "source": [
    "(train_step, merged) = setup_training(loss, train_dataset, sess, lr=1e-4)"
   ]
  },
  {
   "cell_type": "code",
   "execution_count": 30,
   "metadata": {
    "scrolled": true
   },
   "outputs": [
    {
     "name": "stdout",
     "output_type": "stream",
     "text": [
      "initial validation loss 385945.61875\n",
      "training loss 384115.75\n",
      "training loss 376831.0\n",
      "validation loss after epoch 0 is 365180.05125\n",
      "training loss 345704.66\n",
      "training loss 330576.06\n",
      "validation loss after epoch 1 is 347943.5525\n",
      "training loss 331713.7\n",
      "validation loss after epoch 2 is 337156.03625\n",
      "training loss 315384.44\n",
      "training loss 326008.94\n",
      "validation loss after epoch 3 is 327882.0275\n",
      "training loss 291584.4\n",
      "validation loss after epoch 4 is 320167.4675\n"
     ]
    }
   ],
   "source": [
    "train(loss, train_step, merged, train_dataset, val_dataset, images_ph, features_ph, sess, num_epochs=5, summary_freq=50)"
   ]
  },
  {
   "cell_type": "code",
   "execution_count": null,
   "metadata": {
    "collapsed": true
   },
   "outputs": [],
   "source": [
    "saver = tf.train.Saver(var_list=tf.get_collection(tf.GraphKeys.TRAINABLE_VARIABLES, 'decoder'))\n",
    "saver.save(sess, './decoder4/decoder')"
   ]
  },
  {
   "cell_type": "markdown",
   "metadata": {},
   "source": [
    "## testing"
   ]
  },
  {
   "cell_type": "code",
   "execution_count": null,
   "metadata": {
    "collapsed": true
   },
   "outputs": [],
   "source": [
    "derp_dataset = make_precomputed_dataset('../val2017', 'conv4', num_images=50)\n",
    "it = derp_dataset.make_one_shot_iterator()\n",
    "next_elem = it.get_next()"
   ]
  },
  {
   "cell_type": "code",
   "execution_count": null,
   "metadata": {
    "collapsed": true
   },
   "outputs": [],
   "source": [
    "img = sess.run(it.get_next())[0]\n",
    "img = img[np.newaxis,:,:,:]"
   ]
  },
  {
   "cell_type": "code",
   "execution_count": 31,
   "metadata": {},
   "outputs": [
    {
     "name": "stderr",
     "output_type": "stream",
     "text": [
      "C:\\Anaconda\\envs\\style\\lib\\site-packages\\skimage\\transform\\_warps.py:84: UserWarning: The default mode, 'constant', will be changed to 'reflect' in skimage 0.15.\n",
      "  warn(\"The default mode, 'constant', will be changed to 'reflect' in \"\n"
     ]
    }
   ],
   "source": [
    "# img2 = imread('../val2017/000000000139.jpg', pilmode='RGB')\n",
    "img2 = imread('C:/users/rtimpe/downloads/cat.jpg')\n",
    "img2 = skimage.transform.resize(img2, (224, 224, 3))\n",
    "img2 *= 255\n",
    "# np.square(img - img2).sum()"
   ]
  },
  {
   "cell_type": "code",
   "execution_count": null,
   "metadata": {
    "collapsed": true
   },
   "outputs": [],
   "source": [
    "plt.imshow(np.squeeze(img).astype(np.uint8))\n",
    "plt.show()\n",
    "plt.imshow(img2.astype(np.uint8))"
   ]
  },
  {
   "cell_type": "code",
   "execution_count": 32,
   "metadata": {},
   "outputs": [
    {
     "name": "stdout",
     "output_type": "stream",
     "text": [
      "INFO:tensorflow:Restoring parameters from vgg_19.ckpt\n"
     ]
    }
   ],
   "source": [
    "encoded_img = encode_image(img2[np.newaxis, :,:,:], 'vgg_19/' + layer + '/' + layer + '_1')\n",
    "reconstructed = sess.run(reconstructed_image, feed_dict={features_ph: encoded_img})\n",
    "reconstructed = np.squeeze(reconstructed)"
   ]
  },
  {
   "cell_type": "code",
   "execution_count": 33,
   "metadata": {},
   "outputs": [
    {
     "data": {
      "text/plain": [
       "<matplotlib.image.AxesImage at 0x1e303726630>"
      ]
     },
     "execution_count": 33,
     "metadata": {},
     "output_type": "execute_result"
    },
    {
     "data": {
      "image/png": "[encoded data removed]",
      "text/plain": [
       "<matplotlib.figure.Figure at 0x1e303448e10>"
      ]
     },
     "metadata": {},
     "output_type": "display_data"
    }
   ],
   "source": [
    "plt.imshow((reconstructed).astype(np.uint8))"
   ]
  },
  {
   "cell_type": "code",
   "execution_count": null,
   "metadata": {
    "collapsed": true
   },
   "outputs": [],
   "source": [
    "plt.imshow(np.squeeze(img2).astype(np.uint8))\n"
   ]
  },
  {
   "cell_type": "markdown",
   "metadata": {},
   "source": [
    "## style transfer stuff"
   ]
  },
  {
   "cell_type": "code",
   "execution_count": 46,
   "metadata": {},
   "outputs": [
    {
     "name": "stderr",
     "output_type": "stream",
     "text": [
      "C:\\Anaconda\\envs\\style\\lib\\site-packages\\skimage\\transform\\_warps.py:84: UserWarning: The default mode, 'constant', will be changed to 'reflect' in skimage 0.15.\n",
      "  warn(\"The default mode, 'constant', will be changed to 'reflect' in \"\n"
     ]
    },
    {
     "name": "stdout",
     "output_type": "stream",
     "text": [
      "INFO:tensorflow:Restoring parameters from vgg_19.ckpt\n"
     ]
    },
    {
     "data": {
      "text/plain": [
       "255.0"
      ]
     },
     "execution_count": 46,
     "metadata": {},
     "output_type": "execute_result"
    }
   ],
   "source": [
    "# img = imread('../val2017/000000000139.jpg', pilmode='RGB')\n",
    "img = imread('C:/users/rtimpe/downloads/cat.jpg')\n",
    "img = skimage.transform.resize(img, (224, 224, 3))\n",
    "img = img[np.newaxis, :, :, :]\n",
    "img = img * 255\n",
    "encoded_img = encode_image(img, 'vgg_19/' + layer + '/' + layer + '_1')\n",
    "img.max()\n"
   ]
  },
  {
   "cell_type": "code",
   "execution_count": 47,
   "metadata": {},
   "outputs": [],
   "source": [
    "v = encoded_img.reshape(-1, encoded_img.shape[2]).T\n",
    "v_centered = v - np.mean(v)\n",
    "w, _ = whiten(v_centered)\n",
    "w = np.reshape(w, (1, 28, 28, 512)) + v.mean()"
   ]
  },
  {
   "cell_type": "code",
   "execution_count": 48,
   "metadata": {},
   "outputs": [],
   "source": [
    "reconstructed = sess.run(reconstructed_image, feed_dict={features_ph: w})\n",
    "reconstructed = np.squeeze(reconstructed)"
   ]
  },
  {
   "cell_type": "code",
   "execution_count": null,
   "metadata": {
    "collapsed": true
   },
   "outputs": [],
   "source": [
    "(reconstructed)[reconstructed > 255] = 255"
   ]
  },
  {
   "cell_type": "code",
   "execution_count": 42,
   "metadata": {},
   "outputs": [
    {
     "data": {
      "text/plain": [
       "118.61405"
      ]
     },
     "execution_count": 42,
     "metadata": {},
     "output_type": "execute_result"
    }
   ],
   "source": [
    "(reconstructed * 2).max()"
   ]
  },
  {
   "cell_type": "code",
   "execution_count": 41,
   "metadata": {},
   "outputs": [
    {
     "data": {
      "text/plain": [
       "438.09738"
      ]
     },
     "execution_count": 41,
     "metadata": {},
     "output_type": "execute_result"
    }
   ],
   "source": [
    "w.max()"
   ]
  },
  {
   "cell_type": "code",
   "execution_count": 49,
   "metadata": {},
   "outputs": [
    {
     "data": {
      "text/plain": [
       "<matplotlib.image.AxesImage at 0x1e36b233c50>"
      ]
     },
     "execution_count": 49,
     "metadata": {},
     "output_type": "execute_result"
    },
    {
     "data": {
      "image/png": "[encoded data removed]",
      "text/plain": [
       "<matplotlib.figure.Figure at 0x1e31a9fb1d0>"
      ]
     },
     "metadata": {},
     "output_type": "display_data"
    }
   ],
   "source": [
    "# plt.imshow(((reconstructed[:,:,[2,1,0]])).astype(np.uint8))\n",
    "# plt.show()\n",
    "plt.imshow(((reconstructed * 1.0)).astype(np.uint8))"
   ]
  },
  {
   "cell_type": "code",
   "execution_count": null,
   "metadata": {},
   "outputs": [],
   "source": [
    "plt.imshow(np.squeeze(img.astype(np.uint8)))"
   ]
  },
  {
   "cell_type": "code",
   "execution_count": null,
   "metadata": {
    "collapsed": true
   },
   "outputs": [],
   "source": [
    "def make_test_dataset(data_dir):\n",
    "    image_filenames = [os.path.join(data_dir, d) for d in os.listdir(data_dir)]\n",
    "    image_filenames = tf.constant(image_filenames)\n",
    "    dataset = tf.data.Dataset.from_tensor_slices((image_filenames))\n",
    "    dataset = dataset.take(2)\n",
    "    dataset = dataset.batch(38)\n",
    "    return dataset\n",
    "test_dataset = make_test_dataset('../val2017')\n",
    "it = test_dataset.make_one_shot_iterator()\n",
    "next_elem = it.get_next()\n",
    "sess.run(next_elem)\n",
    "# sess.run(next_elem)\n",
    "# sess.run(next_elem)"
   ]
  },
  {
   "cell_type": "code",
   "execution_count": null,
   "metadata": {
    "collapsed": true
   },
   "outputs": [],
   "source": [
    "test_dataset.output_shapes"
   ]
  },
  {
   "cell_type": "markdown",
   "metadata": {},
   "source": [
    "## other crap"
   ]
  },
  {
   "cell_type": "code",
   "execution_count": null,
   "metadata": {
    "collapsed": true
   },
   "outputs": [],
   "source": [
    "it = dataset.make_one_shot_iterator()"
   ]
  },
  {
   "cell_type": "code",
   "execution_count": null,
   "metadata": {
    "collapsed": true
   },
   "outputs": [],
   "source": [
    "img,_ = sess.run(it.get_next())\n",
    "img"
   ]
  },
  {
   "cell_type": "code",
   "execution_count": null,
   "metadata": {
    "collapsed": true
   },
   "outputs": [],
   "source": [
    "plt.imshow(img)"
   ]
  },
  {
   "cell_type": "code",
   "execution_count": null,
   "metadata": {
    "collapsed": true
   },
   "outputs": [],
   "source": [
    "decoded_img = sess.run(reconstructed_image, feed_dict={input_ph: img[np.newaxis,:,:,:]})"
   ]
  },
  {
   "cell_type": "code",
   "execution_count": null,
   "metadata": {
    "collapsed": true
   },
   "outputs": [],
   "source": [
    "decoded_img = np.squeeze(decoded_img)"
   ]
  },
  {
   "cell_type": "code",
   "execution_count": null,
   "metadata": {
    "collapsed": true
   },
   "outputs": [],
   "source": [
    "decoded_img[decoded_img > 255] = 255"
   ]
  },
  {
   "cell_type": "code",
   "execution_count": null,
   "metadata": {
    "collapsed": true
   },
   "outputs": [],
   "source": [
    "plt.imshow(decoded_img.astype(np.uint8))"
   ]
  },
  {
   "cell_type": "code",
   "execution_count": null,
   "metadata": {
    "collapsed": true
   },
   "outputs": [],
   "source": []
  },
  {
   "cell_type": "code",
   "execution_count": null,
   "metadata": {
    "collapsed": true
   },
   "outputs": [],
   "source": [
    "writer = tf.summary.FileWriter('summaries', sess.graph)"
   ]
  },
  {
   "cell_type": "code",
   "execution_count": null,
   "metadata": {
    "collapsed": true
   },
   "outputs": [],
   "source": [
    "sess.run(dataset.make_one_shot_iterator().get_next())"
   ]
  },
  {
   "cell_type": "code",
   "execution_count": null,
   "metadata": {
    "collapsed": true
   },
   "outputs": [],
   "source": [
    "it = dataset.make_one_shot_iterator()\n",
    "sess.run(it.get_next())[1].shape"
   ]
  },
  {
   "cell_type": "code",
   "execution_count": null,
   "metadata": {
    "collapsed": true
   },
   "outputs": [],
   "source": [
    "# make_encoder(images_ph, sess)\n",
    "writer = tf.summary.FileWriter('summaries', sess.graph)"
   ]
  },
  {
   "cell_type": "code",
   "execution_count": null,
   "metadata": {
    "collapsed": true
   },
   "outputs": [],
   "source": []
  }
 ],
 "metadata": {
  "kernelspec": {
   "display_name": "Python 3",
   "language": "python",
   "name": "python3"
  },
  "language_info": {
   "codemirror_mode": {
    "name": "ipython",
    "version": 3
   },
   "file_extension": ".py",
   "mimetype": "text/x-python",
   "name": "python",
   "nbconvert_exporter": "python",
   "pygments_lexer": "ipython3",
   "version": "3.6.1"
  }
 },
 "nbformat": 4,
 "nbformat_minor": 2
}
